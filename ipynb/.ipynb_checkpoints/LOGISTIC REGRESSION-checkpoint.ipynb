{
 "cells": [
  {
   "cell_type": "markdown",
   "id": "01087b9d",
   "metadata": {},
   "source": [
    "# LOGISTIC REGRESSION "
   ]
  },
  {
   "cell_type": "markdown",
   "id": "79b2db86",
   "metadata": {},
   "source": [
    "# "
   ]
  },
  {
   "cell_type": "code",
   "execution_count": 1,
   "id": "d8ae0ece",
   "metadata": {},
   "outputs": [],
   "source": [
    "import numpy as np\n",
    "import pandas as pd\n",
    "from sklearn.preprocessing import StandardScaler\n",
    "import matplotlib.pyplot as plt\n",
    "from sklearn.metrics import precision_recall_curve, average_precision_score\n",
    "from sklearn.metrics import roc_curve, roc_auc_score\n",
    "import seaborn as sns\n",
    "import matplotlib.pyplot as plt"
   ]
  },
  {
   "cell_type": "code",
   "execution_count": 2,
   "id": "d62c69ab",
   "metadata": {},
   "outputs": [],
   "source": [
    "url = \"https://archive.ics.uci.edu/ml/machine-learning-databases/wine-quality/winequality-white.csv\"\n",
    "data = pd.read_csv(url, sep=';')"
   ]
  },
  {
   "cell_type": "code",
   "execution_count": 3,
   "id": "91585143",
   "metadata": {},
   "outputs": [],
   "source": [
    "data = data.drop(['chlorides', 'volatile acidity'], axis=1)"
   ]
  },
  {
   "cell_type": "code",
   "execution_count": 4,
   "id": "ff7bfb08",
   "metadata": {},
   "outputs": [],
   "source": [
    "X = data.iloc[:, :-1].values\n",
    "y = data.iloc[:, -1].values"
   ]
  },
  {
   "cell_type": "code",
   "execution_count": 5,
   "id": "15c795e0",
   "metadata": {},
   "outputs": [],
   "source": [
    "y = np.where(y <= 6, 0, 1)"
   ]
  },
  {
   "cell_type": "code",
   "execution_count": 6,
   "id": "3275b630",
   "metadata": {},
   "outputs": [],
   "source": [
    "scaler = StandardScaler()\n",
    "X = scaler.fit_transform(X)"
   ]
  },
  {
   "cell_type": "code",
   "execution_count": 7,
   "id": "8ecc1958",
   "metadata": {},
   "outputs": [],
   "source": [
    "class LogisticRegression:\n",
    "    def __init__(self, lr=0.1, num_iter=100000, fit_intercept=True, verbose=False):\n",
    "        self.lr = lr\n",
    "        self.num_iter = num_iter\n",
    "        self.fit_intercept = fit_intercept\n",
    "        self.verbose = verbose\n",
    "        self.loss_history = []\n",
    "\n",
    "    def __add_intercept(self, X):\n",
    "        intercept = np.ones((X.shape[0], 1))\n",
    "        return np.concatenate((intercept, X), axis=1)\n",
    "\n",
    "    def __sigmoid(self, z):\n",
    "        return 1 / (1 + np.exp(-z))\n",
    "\n",
    "    def __loss(self, h, y):\n",
    "        return (-y * np.log(h) - (1 - y) * np.log(1 - h)).mean()\n",
    "\n",
    "    def fit(self, X, y):\n",
    "        if self.fit_intercept:\n",
    "            X = self.__add_intercept(X)\n",
    "\n",
    "        # weights initialization\n",
    "        self.theta = np.zeros(X.shape[1])\n",
    "        self.weight_history = [self.theta.copy()] \n",
    "\n",
    "        for i in range(self.num_iter):\n",
    "            z = np.dot(X, self.theta)\n",
    "            h = self.__sigmoid(z)\n",
    "            gradient = np.dot(X.T, (h - y)) / y.size\n",
    "            self.theta -= self.lr * gradient\n",
    "            self.weight_history.append(self.theta.copy())  # store updated weights\n",
    "\n",
    "            loss = self.__loss(h, y)\n",
    "            self.loss_history.append(loss)\n",
    "\n",
    "            if self.verbose and i % 10000 == 0:\n",
    "                print(f\"Loss at iteration {i}: {loss}\")\n",
    "\n",
    "    def predict_prob(self, X):\n",
    "        if self.fit_intercept:\n",
    "            X = self.__add_intercept(X)\n",
    "\n",
    "        return self.__sigmoid(np.dot(X, self.theta))\n",
    "\n",
    "    def predict(self, X, threshold=0.5):\n",
    "        return self.predict_prob(X) >= threshold\n",
    "    def plot_sigmoid(self):\n",
    "        z = np.linspace(-10, 10, 100)\n",
    "        s = self.__sigmoid(z)\n",
    "        plt.plot(z, s)\n",
    "        plt.xlabel('z')\n",
    "        plt.ylabel('sigmoid(z)')\n",
    "        plt.title('Sigmoid function')\n",
    "        plt.show()\n",
    "    def plot_loss(self):\n",
    "        plt.plot(self.loss_history)"
   ]
  },
  {
   "cell_type": "code",
   "execution_count": 8,
   "id": "ea8474fc",
   "metadata": {},
   "outputs": [],
   "source": [
    "k = 5"
   ]
  },
  {
   "cell_type": "code",
   "execution_count": 9,
   "id": "25f74611",
   "metadata": {},
   "outputs": [],
   "source": [
    "fold_size = len(X) // k"
   ]
  },
  {
   "cell_type": "code",
   "execution_count": 10,
   "id": "faa6eba1",
   "metadata": {},
   "outputs": [],
   "source": [
    "indices = np.random.permutation(len(X))\n",
    "X = X[indices]\n",
    "y = y[indices]"
   ]
  },
  {
   "cell_type": "code",
   "execution_count": 11,
   "id": "14f160e2",
   "metadata": {},
   "outputs": [],
   "source": [
    "accuracies = []"
   ]
  },
  {
   "cell_type": "code",
   "execution_count": null,
   "id": "58f27225",
   "metadata": {},
   "outputs": [],
   "source": [
    "for i in range(k):\n",
    "    # indices of the current fold\n",
    "    start = i * fold_size\n",
    "    end = (i + 1) * fold_size\n",
    "    indices = range(start, end)\n",
    "\n",
    "    # Split the data \n",
    "    X_test = X[start:end]\n",
    "    y_test = y[start:end]\n",
    "    X_train = np.delete(X, indices, axis=0)\n",
    "    y_train = np.delete(y, indices)\n",
    "\n",
    "    # Feature scaling\n",
    "    scaler = StandardScaler()\n",
    "    X_train = scaler.fit_transform(X_train)\n",
    "    X_test = scaler.transform(X_test)\n",
    "\n",
    "    # Train \n",
    "    model = LogisticRegression(lr=0.1, num_iter=100000)\n",
    "    model.fit(X_train, y_train)\n",
    "    model.plot_loss()\n",
    "\n",
    "\n",
    "    # Predict \n",
    "    y_pred = model.predict(X_test)\n",
    "    accuracy = np.mean(y_pred == y_test)\n",
    "    accuracies.append(accuracy)"
   ]
  },
  {
   "cell_type": "code",
   "execution_count": null,
   "id": "832f1b07",
   "metadata": {},
   "outputs": [],
   "source": [
    "mean_accuracy = np.mean(accuracies)\n",
    "std_accuracy = np.std(accuracies)"
   ]
  },
  {
   "cell_type": "code",
   "execution_count": null,
   "id": "94bf870d",
   "metadata": {},
   "outputs": [],
   "source": [
    "plt.figure(figsize=(8, 6))\n",
    "plt.boxplot(accuracies,whis=3)\n",
    "plt.title('k-Fold Cross-Validation Results')\n",
    "plt.xlabel('Fold')\n",
    "plt.ylabel('Accuracy')\n",
    "plt.legend([\"Accuracy\"], loc=\"upper right\")\n",
    "plt.show()"
   ]
  },
  {
   "cell_type": "code",
   "execution_count": null,
   "id": "64603cd9",
   "metadata": {},
   "outputs": [],
   "source": [
    "print(\"Cross-validation results:\")\n",
    "print(f\"Accuracy before cross-validation: {np.mean(y_pred == y_test)}\")\n",
    "print(f\"Accuracy after cross-validation: {mean_accuracy}\")\n",
    "print(f\"Standard deviation: {std_accuracy}\")"
   ]
  },
  {
   "cell_type": "code",
   "execution_count": null,
   "id": "4e5722b2",
   "metadata": {},
   "outputs": [],
   "source": [
    "model = LogisticRegression()\n",
    "model.plot_sigmoid()"
   ]
  },
  {
   "cell_type": "code",
   "execution_count": null,
   "id": "aedd6715",
   "metadata": {},
   "outputs": [],
   "source": [
    "model = LogisticRegression(lr=0.1, num_iter=100000)\n",
    "model.fit(X_train, y_train)\n",
    "final_loss = model.loss_history[-1]\n",
    "final_loss"
   ]
  },
  {
   "cell_type": "code",
   "execution_count": null,
   "id": "93845490",
   "metadata": {},
   "outputs": [],
   "source": [
    "weight_history = np.array(model.weight_history)\n",
    "fig, ax = plt.subplots()\n",
    "for i in range(weight_history.shape[1]):\n",
    "    ax.plot(weight_history[:, i], label=f\"Weight {i}\")\n",
    "ax.set_xlabel(\"Iteration\")\n",
    "ax.set_ylabel(\"Weight value\")\n",
    "ax.legend()\n",
    "plt.show()"
   ]
  },
  {
   "cell_type": "code",
   "execution_count": null,
   "id": "044eafa4",
   "metadata": {},
   "outputs": [],
   "source": [
    "# Plot the accuracies for each fold\n",
    "plt.bar(range(k), accuracies)\n",
    "plt.xlabel(\"Fold\")\n",
    "plt.ylabel(\"Accuracy\")\n",
    "plt.ylim([0, 1])\n",
    "plt.title(\"Cross-Validation Results\")\n",
    "plt.show()"
   ]
  },
  {
   "cell_type": "code",
   "execution_count": null,
   "id": "b99cccc2",
   "metadata": {},
   "outputs": [],
   "source": [
    "model = LogisticRegression(lr=0.1, num_iter=100000)\n",
    "model.fit(X, y)\n",
    "y_pred_prob = model.predict_prob(X)\n",
    "\n",
    "precision, recall, thresholds = precision_recall_curve(y, y_pred_prob)\n",
    "ap = average_precision_score(y, y_pred_prob)"
   ]
  },
  {
   "cell_type": "code",
   "execution_count": null,
   "id": "2dfe7fc1",
   "metadata": {},
   "outputs": [],
   "source": [
    "plt.plot(recall, precision, label=\"Precision-recall curve (AP = {:.2f})\".format(ap))\n",
    "plt.xlabel(\"Recall\")\n",
    "plt.ylabel(\"Precision\")\n",
    "plt.title(\"Precision-recall curve\")\n",
    "plt.legend()\n",
    "plt.show()"
   ]
  },
  {
   "cell_type": "code",
   "execution_count": null,
   "id": "4a38c76e",
   "metadata": {},
   "outputs": [],
   "source": [
    "model = LogisticRegression(lr=0.1, num_iter=100000)\n",
    "model.fit(X, y)\n",
    "y_pred_prob = model.predict_prob(X)"
   ]
  },
  {
   "cell_type": "code",
   "execution_count": null,
   "id": "9d331f4c",
   "metadata": {},
   "outputs": [],
   "source": [
    "fpr, tpr, thresholds = roc_curve(y, y_pred_prob)\n",
    "roc_auc = roc_auc_score(y, y_pred_prob)"
   ]
  },
  {
   "cell_type": "code",
   "execution_count": null,
   "id": "917b14fe",
   "metadata": {},
   "outputs": [],
   "source": [
    "plt.plot(fpr, tpr, label=\"ROC curve (AUC = {:.2f})\".format(roc_auc))\n",
    "plt.plot([0, 1], [0, 1], 'k--')\n",
    "plt.xlabel(\"False Positive Rate\")\n",
    "plt.ylabel(\"True Positive Rate\")\n",
    "plt.title(\"ROC curve\")\n",
    "plt.legend()\n",
    "plt.show()"
   ]
  },
  {
   "cell_type": "code",
   "execution_count": null,
   "id": "eb589105",
   "metadata": {},
   "outputs": [],
   "source": [
    "sns.countplot(x=y)\n",
    "plt.title(\"Distribution of target variable\")\n",
    "plt.show()"
   ]
  },
  {
   "cell_type": "code",
   "execution_count": null,
   "id": "cb7642fb",
   "metadata": {},
   "outputs": [],
   "source": [
    "def confusion_matrix(y_true, y_pred):\n",
    "    \"\"\"\n",
    "    Computes the confusion matrix for binary classification.\n",
    "    \"\"\"\n",
    "    tp = np.sum((y_test == 1) & (y_pred == 1))\n",
    "    tn = np.sum((y_test == 0) & (y_pred == 0))\n",
    "    fp = np.sum((y_test == 0) & (y_pred == 1))\n",
    "    fn = np.sum((y_test == 1) & (y_pred == 0))\n",
    "    return np.array([[tn, fp], [fn, tp]])\n",
    "def f1_score(y_true, y_pred):\n",
    "    \"\"\"\n",
    "    Computes the F1 score for binary classification.\n",
    "    \"\"\"\n",
    "    cm = confusion_matrix(y_true, y_pred)\n",
    "    tp = cm[1, 1]\n",
    "    fp = cm[0, 1]\n",
    "    fn = cm[1, 0]\n",
    "    precision = tp / (tp + fp)\n",
    "    recall = tp / (tp + fn)\n",
    "    f1 = 2 * (precision * recall) / (precision + recall)\n",
    "    return f1"
   ]
  },
  {
   "cell_type": "code",
   "execution_count": null,
   "id": "3bf7f0b5",
   "metadata": {},
   "outputs": [],
   "source": [
    "cm = confusion_matrix(y_test, y_pred)\n",
    "print(\"Confusion matrix:\\n\\n\", cm)"
   ]
  },
  {
   "cell_type": "code",
   "execution_count": null,
   "id": "e05531e6",
   "metadata": {},
   "outputs": [],
   "source": [
    "cm = confusion_matrix(y_test, y_pred)\n",
    "sns.heatmap(cm, annot=True, cmap='Blues', fmt='g')\n",
    "plt.xlabel('Predicted label')\n",
    "plt.ylabel('True label')\n",
    "plt.show()"
   ]
  },
  {
   "cell_type": "code",
   "execution_count": null,
   "id": "faeaab94",
   "metadata": {},
   "outputs": [],
   "source": [
    "plt.bar([0, 1], [len(y[y==0]), len(y[y==1])])\n",
    "plt.xticks([0, 1], ['Class 0', 'Class 1'])\n",
    "plt.title('Class Distribution')\n",
    "plt.show()"
   ]
  },
  {
   "cell_type": "code",
   "execution_count": null,
   "id": "91d6b936",
   "metadata": {},
   "outputs": [],
   "source": [
    "f1 = f1_score(y_test, y_pred)\n",
    "print(\"F1 score:\\n\", f1)"
   ]
  },
  {
   "cell_type": "markdown",
   "id": "7c73cb75",
   "metadata": {},
   "source": [
    "# "
   ]
  },
  {
   "cell_type": "markdown",
   "id": "0b6f4030",
   "metadata": {},
   "source": [
    "# "
   ]
  },
  {
   "cell_type": "markdown",
   "id": "9a349264",
   "metadata": {},
   "source": [
    "# "
   ]
  }
 ],
 "metadata": {
  "kernelspec": {
   "display_name": "Python 3 (ipykernel)",
   "language": "python",
   "name": "python3"
  },
  "language_info": {
   "codemirror_mode": {
    "name": "ipython",
    "version": 3
   },
   "file_extension": ".py",
   "mimetype": "text/x-python",
   "name": "python",
   "nbconvert_exporter": "python",
   "pygments_lexer": "ipython3",
   "version": "3.9.13"
  }
 },
 "nbformat": 4,
 "nbformat_minor": 5
}
